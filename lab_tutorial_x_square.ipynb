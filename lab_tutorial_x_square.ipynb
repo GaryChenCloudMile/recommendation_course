{
 "cells": [
  {
   "cell_type": "code",
   "execution_count": 1,
   "metadata": {
    "collapsed": true
   },
   "outputs": [],
   "source": [
    "import tensorflow as tf, numpy as np, matplotlib.pyplot as plt\n",
    "plt.style.use('ggplot')"
   ]
  },
  {
   "cell_type": "markdown",
   "metadata": {},
   "source": [
    "### LAB\n",
    "1. 設定4個變數: varA, varB, varC, varY,\n",
    "2. 根據 target function y = 4(x^2) + 8x + 7, 在tensorflow graph裡設定與target function一樣格式的formula\n",
    "3. 使用 mean square loss function\n",
    "4. 執行時有個重要的變數沒有run, 導致無法最佳化, 請問是哪一個變數?\n",
    "\n",
    "```\n",
    "目標: varA 逼近 4, varB 逼近 8, varC 逼近 7```"
   ]
  },
  {
   "cell_type": "markdown",
   "metadata": {},
   "source": [
    "## target function<br/>\n",
    "$ Y = 4X^2 + 8X + 7 $"
   ]
  },
  {
   "cell_type": "code",
   "execution_count": 2,
   "metadata": {},
   "outputs": [
    {
     "data": {
      "image/png": "[encoded data removed]",
      "text/plain": [
       "<matplotlib.figure.Figure at 0x16cece45ac8>"
      ]
     },
     "metadata": {},
     "output_type": "display_data"
    }
   ],
   "source": [
    "fn = lambda x: 4*x**2 + 8*x + 7\n",
    "x = np.arange(-1000, 1000)\n",
    "plt.plot(x, fn(x))\n",
    "plt.show()"
   ]
  },
  {
   "cell_type": "code",
   "execution_count": null,
   "metadata": {
    "collapsed": true
   },
   "outputs": [],
   "source": [
    "import tensorflow as tf, numpy as np\n",
    "\n",
    "class SquaredModel(object):\n",
    "    def __init__(self):\n",
    "        \"\"\"Init graph\"\"\"\n",
    "        tf.reset_default_graph()\n",
    "        self.graph = tf.Graph()\n",
    "        with self.graph.as_default():\n",
    "            with tf.variable_scope(\"inputs\"):\n",
    "                # 接收 outerX data\n",
    "                self.placeholderX = tf.placeholder(tf.float32, shape=[None], name=\"placeholder_x\")\n",
    "                # 接收 outerY data\n",
    "                self.placeholderY = tf.placeholder(tf.float32, shape=[None], name=\"placeholder_y\")\n",
    "\n",
    "            with tf.variable_scope(\"formula\"):\n",
    "                # 設定4個變數 ex: self.varA = tf.Variable(tf.random_uniform(shape=[1]), tf.float32)\n",
    "                self.varA = ?\n",
    "                self.varB = ?\n",
    "                self.varC = ?\n",
    "                # y = 4(x^2) + 8x + 7\n",
    "                self.varY = ? * self.placeholderX ** 2 + \\\n",
    "                            ? * self.placeholderX + \\\n",
    "                            ?\n",
    "                # tensorboard weights logs\n",
    "                tf.summary.histogram(\"varA\", self.varA)\n",
    "                tf.summary.histogram(\"varB\", self.varB)\n",
    "                tf.summary.histogram(\"varC\", self.varC)\n",
    "                \n",
    "            # 均方誤差\n",
    "            self.loss = tf.losses.mean_squared_error(self.placeholderY, self.varY)\n",
    "            # tensorboard weights logs\n",
    "            tf.summary.scalar(\"loss\", self.loss)\n",
    "            # 使用 AdamOptimizer\n",
    "            self.optimizer = tf.train.GradientDescentOptimizer(learning_rate=learning_rate)\n",
    "            # 最小化 loss, 此時會 backpropagation 去調整 varW, varB的值\n",
    "            self.trainer = self.optimizer.minimize(self.loss)\n",
    "            self.merge = tf.summary.merge_all()\n",
    "            # 儲存物件\n",
    "            self.saver = tf.train.Saver(tf.global_variables())\n",
    "            \n",
    "    def load_weight(self, sess, model_dir):\n",
    "        \"\"\"load latest saved model\"\"\"\n",
    "        latestCkpt = tf.train.latest_checkpoint(model_dir)\n",
    "        if latestCkpt:\n",
    "            self.saver.restore(sess, latestCkpt)\n",
    "            print(\"load weight success!\")\n",
    "        return latestCkpt"
   ]
  },
  {
   "cell_type": "markdown",
   "metadata": {},
   "source": [
    "## Save Model"
   ]
  },
  {
   "cell_type": "code",
   "execution_count": null,
   "metadata": {
    "collapsed": true
   },
   "outputs": [],
   "source": [
    "n_epoch = 2000\n",
    "learning_rate = 0.5\n",
    "\n",
    "# 產生資料\n",
    "outerX = np.random.random(10000)\n",
    "outerY = 4 * (outerX ** 2) + 8 * outerX + 7 + np.random.random()\n",
    "outerX, outerY\n",
    "\n",
    "model_dir = \"./model/squared\"\n",
    "\n",
    "model = SquaredModel()\n",
    "with tf.Session(graph=model.graph) as sess:\n",
    "    w = tf.summary.FileWriter(model_dir, sess.graph)\n",
    "    init = tf.global_variables_initializer()\n",
    "    sess.run(init)\n",
    "    for i in range(n_epoch):\n",
    "        _, a_, b_, c_, merge_= sess.run([?, model.varA, model.varB, model.varC, model.merge], \n",
    "                                        feed_dict={model.placeholderX: outerX, model.placeholderY: outerY})\n",
    "        if (i+1) % 200 == 0:\n",
    "            print('step: {} varA: {}, varB: {}, varC: {}'.format(i+1, a_, b_, c_) )\n",
    "            w.add_summary(merge_, i)\n",
    "            \n",
    "        # 200 epochs 存檔一次\n",
    "        if (i+1) % 200 == 0:\n",
    "            ''' Save model '''\n",
    "            model.saver.save(sess, save_path=model_dir + \"/squared_model\", global_step=i)"
   ]
  },
  {
   "cell_type": "markdown",
   "metadata": {},
   "source": [
    "## Load Model"
   ]
  },
  {
   "cell_type": "code",
   "execution_count": null,
   "metadata": {
    "collapsed": true
   },
   "outputs": [],
   "source": [
    "model_dir = \"./model/squared\"\n",
    "data_x = np.linspace(-1000, 1000, 100)\n",
    "\n",
    "model = SquaredModel()\n",
    "with tf.Session(graph=model.graph) as sess:\n",
    "    sess.run(tf.global_variables_initializer())\n",
    "    ''' load pre-trained weight into model '''\n",
    "    # model.load_weight(sess, model_dir)\n",
    "    \n",
    "    y = sess.run(model.varY, feed_dict={model.placeholderX: data_x})\n",
    "    \n",
    "    ans_y = lambda x: 4 * x**2 + 8 * x + 7\n",
    "    plt.scatter(data_x, y, label=\"predict\", c=\"b\", linewidth=5, alpha=0.5)\n",
    "    plt.scatter(data_x, ans_y(data_x), label=\"predict\", c=\"g\")\n",
    "    plt.legend(loc=\"best\")\n",
    "    plt.show()"
   ]
  }
 ],
 "metadata": {
  "kernelspec": {
   "display_name": "Python 3",
   "language": "python",
   "name": "python3"
  },
  "language_info": {
   "codemirror_mode": {
    "name": "ipython",
    "version": 3
   },
   "file_extension": ".py",
   "mimetype": "text/x-python",
   "name": "python",
   "nbconvert_exporter": "python",
   "pygments_lexer": "ipython3",
   "version": "3.5.3"
  }
 },
 "nbformat": 4,
 "nbformat_minor": 2
}
